{
 "cells": [
  {
   "cell_type": "raw",
   "metadata": {},
   "source": [
    "<script>\n",
    "  function code_toggle() {\n",
    "    if (code_shown){\n",
    "      $('div.input').hide('500');\n",
    "      $('#toggleButton').val('Show Code')\n",
    "    } else {\n",
    "      $('div.input').show('500');\n",
    "      $('#toggleButton').val('Hide Code')\n",
    "    }\n",
    "    code_shown = !code_shown\n",
    "  }\n",
    "\n",
    "  $( document ).ready(function(){\n",
    "    code_shown=false;\n",
    "    $('div.input').hide()\n",
    "  });\n",
    "</script>\n",
    "<form action=\"javascript:code_toggle()\"><input type=\"submit\" id=\"toggleButton\" value=\"Show Code\"></form>"
   ]
  },
  {
   "cell_type": "markdown",
   "metadata": {},
   "source": [
    "# Example 1\n",
    "\n",
    "This example presents some old code that can be hidden and shown"
   ]
  },
  {
   "cell_type": "code",
   "execution_count": null,
   "metadata": {
    "attributes": {
     "classes": [],
     "id": "",
     "n": "14"
    },
    "scrolled": true
   },
   "outputs": [],
   "source": [
    "def primos_gemelos(num1, num2):\n",
    "    '''\n",
    "    Entradas: num1, num2\n",
    "    Salidas: lista con tuplas que contienen los primos gemelos\n",
    "    Restricciones: num1 y 2 tienen que ser enteros.\n",
    "    '''\n",
    "    if not(isinstance(num1, int)) or not(isinstance(num2, int)):\n",
    "        return(\"Error\")\n",
    "    lista = []\n",
    "    for i in range(num1, num2 -1):\n",
    "        if is_primo(i) and is_primo(i + 2):\n",
    "            lista.append((i, i + 2))\n",
    "    return (lista)\n"
   ]
  },
  {
   "cell_type": "markdown",
   "metadata": {},
   "source": [
    "# Example 2\n",
    "This second example is to show that all code is hidden when the button is not toggled"
   ]
  },
  {
   "cell_type": "code",
   "execution_count": null,
   "metadata": {
    "attributes": {
     "classes": [],
     "id": "",
     "n": "3"
    }
   },
   "outputs": [],
   "source": [
    "def pares_impares(num):\n",
    "    '''\n",
    "    Funcion para separar los digitos pares e impares de un entero\n",
    "    Entradas: num\n",
    "    Salidas: pares, impares\n",
    "    Restricciones: num debe ser mayor o igual a 0\n",
    "    '''\n",
    "    if num < 0 or not(isinstance(num, int)):\n",
    "        return(\"ERROR\")\n",
    "    pares = 0\n",
    "    impares = 0\n",
    "    exponentePares = 0\n",
    "    exponenteImpares = 0\n",
    "        \n",
    "    while(num > 0): \n",
    "        if par(num % 10):\n",
    "            pares += (num % 10) * 10**exponentePares\n",
    "            exponentePares +=1\n",
    "            num = num // 10\n",
    "        else:\n",
    "            impares += (num % 10) * 10**exponenteImpares\n",
    "            exponenteImpares +=1\n",
    "            num = num // 10\n",
    "            \n",
    "    return(pares, impares)\n"
   ]
  },
  {
   "cell_type": "raw",
   "metadata": {},
   "source": [
    "<script>\n",
    "  $(document).ready(function(){\n",
    "    $('div.prompt').hide();\n",
    "    $('div.back-to-top').hide();\n",
    "    $('nav#menubar').hide();\n",
    "    $('.breadcrumb').hide();\n",
    "    $('.hidden-print').hide();\n",
    "  });\n",
    "</script>\n",
    "\n",
    "<footer id=\"attribution\" style=\"float:right; color:#999; background:#fff;\">\n",
    "Created with Jupyter, delivered by Fastly, rendered by Rackspace.\n",
    "</footer>"
   ]
  }
 ],
 "metadata": {
  "kernelspec": {
   "display_name": "Python 3",
   "language": "python",
   "name": "python3"
  },
  "language_info": {
   "codemirror_mode": {
    "name": "ipython",
    "version": 3
   },
   "file_extension": ".py",
   "mimetype": "text/x-python",
   "name": "python",
   "nbconvert_exporter": "python",
   "pygments_lexer": "ipython3",
   "version": "3.6.7"
  }
 },
 "nbformat": 4,
 "nbformat_minor": 2
}
